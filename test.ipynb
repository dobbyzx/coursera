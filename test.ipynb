{
    "cells": [
        {
            "cell_type": "markdown",
            "metadata": {
                "collapsed": true
            },
            "source": "# My Jupyter Notebook on IBM Watson Studio"
        },
        {
            "cell_type": "markdown",
            "metadata": {},
            "source": "**Zifan Xiao**\n\nPostdoctoral Research Associate"
        },
        {
            "cell_type": "markdown",
            "metadata": {},
            "source": "*I am interested in data science because there is an absurd amount of data and there is only a certain amount of click and drag in Excel I can do before developing carpal tunnel syndrome.*"
        },
        {
            "cell_type": "markdown",
            "metadata": {},
            "source": "### The code is supposed to output the string \"Hello World!\""
        },
        {
            "cell_type": "code",
            "execution_count": 11,
            "metadata": {
                "scrolled": true
            },
            "outputs": [
                {
                    "name": "stdout",
                    "output_type": "stream",
                    "text": "Hello World!\n"
                }
            ],
            "source": "print(\"Hello World!\")"
        },
        {
            "cell_type": "markdown",
            "metadata": {},
            "source": "\n\n1. One\n2. Two\n3. Three\n\n---\n\n* a\n* b\n* c\n\n>Follow the instructions\n\n|And|Or|Not|\n|---|---|---|\n|a|b|c|\n|1|2|3|\n>RTFM\n\n~~(https://google.com)~~"
        }
    ],
    "metadata": {
        "kernelspec": {
            "display_name": "Python 3.9",
            "language": "python",
            "name": "python3"
        },
        "language_info": {
            "codemirror_mode": {
                "name": "ipython",
                "version": 3
            },
            "file_extension": ".py",
            "mimetype": "text/x-python",
            "name": "python",
            "nbconvert_exporter": "python",
            "pygments_lexer": "ipython3",
            "version": "3.9.7"
        }
    },
    "nbformat": 4,
    "nbformat_minor": 1
}